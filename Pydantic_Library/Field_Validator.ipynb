{
 "cells": [
  {
   "cell_type": "code",
   "execution_count": 2,
   "id": "16194246",
   "metadata": {},
   "outputs": [],
   "source": [
    "from pydantic import BaseModel,Field,EmailStr,AnyUrl,field_validator\n",
    "from typing import Optional,Annotated,List,Dict"
   ]
  },
  {
   "cell_type": "code",
   "execution_count": 3,
   "id": "92526172",
   "metadata": {},
   "outputs": [],
   "source": [
    "class Patients(BaseModel):\n",
    "    name:str\n",
    "    age:int\n",
    "    email:EmailStr\n",
    "    linkedin:AnyUrl\n",
    "    married:bool\n",
    "    weight:int"
   ]
  }
 ],
 "metadata": {
  "kernelspec": {
   "display_name": ".venv",
   "language": "python",
   "name": "python3"
  },
  "language_info": {
   "codemirror_mode": {
    "name": "ipython",
    "version": 3
   },
   "file_extension": ".py",
   "mimetype": "text/x-python",
   "name": "python",
   "nbconvert_exporter": "python",
   "pygments_lexer": "ipython3",
   "version": "3.10.11"
  }
 },
 "nbformat": 4,
 "nbformat_minor": 5
}
