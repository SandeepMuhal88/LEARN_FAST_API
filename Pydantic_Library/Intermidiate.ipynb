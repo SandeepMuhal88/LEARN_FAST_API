{
 "cells": [
  {
   "cell_type": "code",
   "execution_count": 13,
   "id": "bec896dc",
   "metadata": {},
   "outputs": [
    {
     "name": "stdout",
     "output_type": "stream",
     "text": [
      "Name:John\n",
      "Age:30\n",
      "Data inserted successfully\n",
      "Name:John\n",
      "Age:30\n",
      "Data updated successfully\n"
     ]
    }
   ],
   "source": [
    "from pydantic import BaseModel\n",
    "\n",
    "class Patient(BaseModel):\n",
    "    name: str\n",
    "    age: int\n",
    "\n",
    "\n",
    "def insert_patient(patient: Patient):\n",
    "\n",
    "        print(f\"Name:{patient.name}\")\n",
    "        print(f\"Age:{patient.age}\")\n",
    "        print(\"Data inserted successfully\")\n",
    "\n",
    "\n",
    "def update_patient(patient: Patient):\n",
    "\n",
    "    print(f\"Name:{patient.name}\")\n",
    "    print(f\"Age:{patient.age}\")\n",
    "    print(\"Data updated successfully\")\n",
    "\n",
    "patient_dict={'name':'John','age':'30'}\n",
    "patient1 = Patient(**patient_dict)\n",
    "\n",
    "insert_patient(patient1)\n",
    "\n",
    "update_patient(patient1)\n"
   ]
  },
  {
   "cell_type": "code",
   "execution_count": 14,
   "id": "23db7b47",
   "metadata": {},
   "outputs": [
    {
     "name": "stdout",
     "output_type": "stream",
     "text": [
      "Name:John\n",
      "Age:30\n",
      "Weight:70.5\n",
      "Height:180.5\n",
      "Gender:Male\n",
      "City:New York\n",
      "Married:True\n",
      "Allergies:['Penicillin', 'Aspirin']\n",
      "Cantact Number:{'Home': '123-456-7890', 'email': 'john@example.com'}\n",
      "Data updated successfully\n"
     ]
    }
   ],
   "source": [
    "from pydantic import BaseModel\n",
    "from typing import List,Dict\n",
    "\n",
    "class Pattient(BaseModel):\n",
    "    name : str\n",
    "    age: int\n",
    "    Weight: float\n",
    "    Height: float\n",
    "    Gender: str\n",
    "    city: str\n",
    "    married : bool\n",
    "    allergies : List[str]\n",
    "    cantact_Number: Dict[str , str]\n",
    "\n",
    "\n",
    "def updates_patient(patients: Pattient):\n",
    "    print(f\"Name:{patients.name}\")\n",
    "    print(f\"Age:{patients.age}\")\n",
    "    print(f\"Weight:{patients.Weight}\")\n",
    "    print(f\"Height:{patients.Height}\")\n",
    "    print(f\"Gender:{patients.Gender}\")\n",
    "    print(f\"City:{patients.city}\")\n",
    "    print(f\"Married:{patients.married}\")\n",
    "    print(f\"Allergies:{patients.allergies}\")\n",
    "    print(f\"Cantact Number:{patients.cantact_Number}\")\n",
    "    print(\"Data updated successfully\")\n",
    "\n",
    "\n",
    "# Make a dictionary for patients\n",
    "data={\n",
    "    'name' : 'John',\n",
    "    'age' : 30,\n",
    "    'Weight' : 70.5,\n",
    "    'Height' : 180.5,\n",
    "    'Gender' : 'Male',\n",
    "    'city' : 'New York',\n",
    "    'married' : True,\n",
    "    'allergies' : ['Penicillin', 'Aspirin'],\n",
    "    'cantact_Number' : {'Home' : '123-456-7890','email':'john@example.com'}\n",
    "}\n",
    "\n",
    "\n",
    "obj=Pattient(**data)\n",
    "\n",
    "updates_patient(obj)\n"
   ]
  }
 ],
 "metadata": {
  "kernelspec": {
   "display_name": ".venv",
   "language": "python",
   "name": "python3"
  },
  "language_info": {
   "codemirror_mode": {
    "name": "ipython",
    "version": 3
   },
   "file_extension": ".py",
   "mimetype": "text/x-python",
   "name": "python",
   "nbconvert_exporter": "python",
   "pygments_lexer": "ipython3",
   "version": "3.10.11"
  }
 },
 "nbformat": 4,
 "nbformat_minor": 5
}
