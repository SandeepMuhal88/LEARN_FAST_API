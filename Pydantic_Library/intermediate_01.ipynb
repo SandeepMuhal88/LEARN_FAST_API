{
 "cells": [
  {
   "cell_type": "code",
   "execution_count": 4,
   "id": "0e78846b",
   "metadata": {},
   "outputs": [],
   "source": [
    "from pydantic import BaseModel,Field,EmailStr,AnyUrl\n",
    "from typing import List,Dict,Optional"
   ]
  },
  {
   "cell_type": "code",
   "execution_count": 5,
   "id": "ba6c99c1",
   "metadata": {},
   "outputs": [],
   "source": [
    "# %pip install -U email-validator"
   ]
  },
  {
   "cell_type": "code",
   "execution_count": 7,
   "id": "71e10302",
   "metadata": {},
   "outputs": [
    {
     "name": "stdout",
     "output_type": "stream",
     "text": [
      "Name: John Doe\n",
      "Age: 30\n",
      "Email: john.doe@example.com\n",
      "Website: https://www.johndoe.com/\n",
      "Is Active: True\n",
      "Password: password123\n",
      "Weight: 70.5\n",
      "Height: 180\n",
      "Details Inserted\n"
     ]
    }
   ],
   "source": [
    "from typing import Optional\n",
    "from pydantic import BaseModel, EmailStr, AnyUrl, Field\n",
    "\n",
    "class User(BaseModel):\n",
    "    name: str = Field(..., alias=\"Name\")\n",
    "    age: int = Field(..., alias=\"Age\")\n",
    "    email: EmailStr = Field(..., alias=\"Email\")\n",
    "    website: Optional[AnyUrl] = Field(None, alias=\"Website\")\n",
    "    is_active: bool = Field(False, alias=\"Is Active\")\n",
    "    password: str = Field(..., min_length=8, alias=\"Password\")\n",
    "    Weight: float = Field(..., gt=0, alias=\"Weight\")\n",
    "    Height: int = Field(..., gt=0, alias=\"Height\")\n",
    "\n",
    "def insert_user(user: User):\n",
    "    print(f\"Name: {user.name}\")\n",
    "    print(f\"Age: {user.age}\")\n",
    "    print(f\"Email: {user.email}\")\n",
    "    print(f\"Website: {user.website}\")\n",
    "    print(f\"Is Active: {user.is_active}\")\n",
    "    print(f\"Password: {user.password}\")\n",
    "    print(f\"Weight: {user.Weight}\")\n",
    "    print(f\"Height: {user.Height}\")\n",
    "    print(\"Details Inserted\")\n",
    "\n",
    "data = {\n",
    "    'Name':'John Doe',\n",
    "    'Age':30,\n",
    "    'Email':'john.doe@example.com',\n",
    "    'Website':'https://www.johndoe.com',\n",
    "    'Is Active':True,\n",
    "    'Password':'password123',\n",
    "    'Weight':70.5,\n",
    "    'Height':180\n",
    "}\n",
    "\n",
    "obj = User(**data)\n",
    "insert_user(obj)\n"
   ]
  }
 ],
 "metadata": {
  "kernelspec": {
   "display_name": ".venv",
   "language": "python",
   "name": "python3"
  },
  "language_info": {
   "codemirror_mode": {
    "name": "ipython",
    "version": 3
   },
   "file_extension": ".py",
   "mimetype": "text/x-python",
   "name": "python",
   "nbconvert_exporter": "python",
   "pygments_lexer": "ipython3",
   "version": "3.10.11"
  }
 },
 "nbformat": 4,
 "nbformat_minor": 5
}
