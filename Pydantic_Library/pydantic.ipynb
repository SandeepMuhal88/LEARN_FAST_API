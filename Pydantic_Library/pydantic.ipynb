{
 "cells": [
  {
   "cell_type": "code",
   "execution_count": 28,
   "id": "498cbbcf",
   "metadata": {},
   "outputs": [
    {
     "name": "stdout",
     "output_type": "stream",
     "text": [
      "Inserting patient John with age 30\n",
      "Data inserted successfully\n",
      "Updating patient John with age 30\n",
      "Data updated successfully\n"
     ]
    }
   ],
   "source": [
    "from pydantic import BaseModel\n",
    "\n",
    "class Patient(BaseModel):\n",
    "    name: str\n",
    "    age: int\n",
    "\n",
    "def insert_patient(patient: Patient):\n",
    "    print(f\"Inserting patient {patient.name} with age {patient.age}\")\n",
    "    print(\"Data inserted successfully\")\n",
    "\n",
    "def update_patient(patient: Patient):\n",
    "    print(f\"Updating patient {patient.name} with age {patient.age}\")\n",
    "    print(\"Data updated successfully\")\n",
    "\n",
    "patient_dict={'name':'John','age':30}\n",
    "patient1 = Patient(**patient_dict)\n",
    "\n",
    "insert_patient(patient1)\n",
    "\n",
    "update_patient(patient1)\n"
   ]
  }
 ],
 "metadata": {
  "kernelspec": {
   "display_name": ".venv",
   "language": "python",
   "name": "python3"
  },
  "language_info": {
   "codemirror_mode": {
    "name": "ipython",
    "version": 3
   },
   "file_extension": ".py",
   "mimetype": "text/x-python",
   "name": "python",
   "nbconvert_exporter": "python",
   "pygments_lexer": "ipython3",
   "version": "3.10.11"
  }
 },
 "nbformat": 4,
 "nbformat_minor": 5
}
