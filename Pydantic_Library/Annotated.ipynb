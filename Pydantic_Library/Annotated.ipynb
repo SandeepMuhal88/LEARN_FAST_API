{
 "cells": [
  {
   "cell_type": "code",
   "execution_count": 2,
   "id": "e0abd036",
   "metadata": {},
   "outputs": [],
   "source": [
    "from pydantic import BaseModel , EmailStr,Field,AnyUrl\n",
    "from typing import Optional,Annotated,List,Dict\n",
    "\n"
   ]
  },
  {
   "cell_type": "code",
   "execution_count": 6,
   "id": "cd498ef3",
   "metadata": {},
   "outputs": [
    {
     "name": "stdout",
     "output_type": "stream",
     "text": [
      "Sandeep\n",
      "21\n",
      "sandeep@gmail.com\n",
      "https://www.linkedin.com/in/sandeep/\n",
      "True\n",
      "50\n"
     ]
    }
   ],
   "source": [
    "class Patients(BaseModel):\n",
    "    Name:Annotated[str,Field(max_length=45,min_length=3,title=\"Name of the Patient\",\n",
    "    description=\"Give the name of the patient in less than 45 characters and more than 3 characters\",examples=['Sandeep','Hetu'])]\n",
    "\n",
    "    Age:Annotated[int,Field(gt=0,lt=100,title=\"Age of the Patient\",description=\"Give the age of the patient in less than 100 and more than 0\",examples=[21,22])]\n",
    "    Email:Annotated[str,EmailStr]\n",
    "    linkedin: Annotated[str,AnyUrl]\n",
    "    Married: Annotated[bool,Field(default=None,description=\"Is the patient married or not\",examples=[True,False])]\n",
    "    Weight: Annotated[int,Field(gt=0,title=\"Weight of the Patient\",description=\"Give the weight of the patient in less than 100 and more than 0\",examples=[50,60])]\n",
    "\n",
    "\n",
    "def instance_of_patients(Patient:Patients):\n",
    "    print(Patient.Name)\n",
    "    print(Patient.Age)\n",
    "    print(Patient.Email)\n",
    "    print(Patient.linkedin)\n",
    "    print(Patient.Married)\n",
    "    print(Patient.Weight)\n",
    "\n",
    "\n",
    "\n",
    "data={\n",
    "    \"Name\":\"Sandeep\",\n",
    "    \"Age\":21,\n",
    "    \"Email\":\"sandeep@gmail.com\",\n",
    "    \"linkedin\":\"https://www.linkedin.com/in/sandeep/\",\n",
    "    \"Married\":True,\n",
    "    \"Weight\":50\n",
    "}\n",
    "\n",
    "\n",
    "obj=Patients(**data)\n",
    "\n",
    "instance_of_patients(obj)\n"
   ]
  }
 ],
 "metadata": {
  "kernelspec": {
   "display_name": ".venv",
   "language": "python",
   "name": "python3"
  },
  "language_info": {
   "codemirror_mode": {
    "name": "ipython",
    "version": 3
   },
   "file_extension": ".py",
   "mimetype": "text/x-python",
   "name": "python",
   "nbconvert_exporter": "python",
   "pygments_lexer": "ipython3",
   "version": "3.10.11"
  }
 },
 "nbformat": 4,
 "nbformat_minor": 5
}
