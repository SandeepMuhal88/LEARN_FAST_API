{
 "cells": [
  {
   "cell_type": "code",
   "execution_count": 23,
   "id": "5035f258",
   "metadata": {},
   "outputs": [
    {
     "name": "stdout",
     "output_type": "stream",
     "text": [
      "Name: John\n",
      "Age: 30\n",
      "Weight: 70.5\n",
      "Height: 180.5\n",
      "Gender: Male\n",
      "City: New York\n",
      "Married: None\n",
      "Allergies: None\n",
      "Cantact Number: {'Home': '123-456-7890', 'email': 'john@example.com'}\n",
      "Data updated successfully\n"
     ]
    }
   ],
   "source": [
    "from pydantic import BaseModel\n",
    "from typing import List,Dict,Optional\n",
    "\n",
    "class Pattient(BaseModel):\n",
    "    name : str\n",
    "    age: int\n",
    "    Weight: float\n",
    "    Height: float\n",
    "    Gender: str\n",
    "    city: str\n",
    "    married : Optional[bool]=None\n",
    "    allergies : Optional[List[str]]=None\n",
    "    cantact_Number: Dict[str , str]\n",
    "\n",
    "\n",
    "def updates_patient(patients: Pattient):\n",
    "    print(f\"Name: {patients.name}\")\n",
    "    print(f\"Age: {patients.age}\")\n",
    "    print(f\"Weight: {patients.Weight}\")\n",
    "    print(f\"Height: {patients.Height}\")\n",
    "    print(f\"Gender: {patients.Gender}\")\n",
    "    print(f\"City: {patients.city}\")\n",
    "    print(f\"Married: {patients.married}\")\n",
    "    print(f\"Allergies: {patients.allergies}\")\n",
    "    print(f\"Cantact Number: {patients.cantact_Number}\")\n",
    "    print(\"Data updated successfully\")\n",
    "\n",
    "\n",
    "# Make a dictionary for patients\n",
    "data={\n",
    "    'name' : 'John',\n",
    "    'age' : 30,\n",
    "    'Weight' : 70.5,\n",
    "    'Height' : 180.5,\n",
    "    'Gender' : 'Male',\n",
    "    'city' : 'New York',\n",
    "    # 'married' : True,\n",
    "    # 'allergies' : ['Penicillin', 'Aspirin'],\n",
    "    'cantact_Number' : {'Home' : '123-456-7890','email':'john@example.com'}\n",
    "}\n",
    "\n",
    "\n",
    "obj=Pattient(**data)\n",
    "\n",
    "updates_patient(obj)\n"
   ]
  }
 ],
 "metadata": {
  "kernelspec": {
   "display_name": ".venv",
   "language": "python",
   "name": "python3"
  },
  "language_info": {
   "codemirror_mode": {
    "name": "ipython",
    "version": 3
   },
   "file_extension": ".py",
   "mimetype": "text/x-python",
   "name": "python",
   "nbconvert_exporter": "python",
   "pygments_lexer": "ipython3",
   "version": "3.10.11"
  }
 },
 "nbformat": 4,
 "nbformat_minor": 5
}
