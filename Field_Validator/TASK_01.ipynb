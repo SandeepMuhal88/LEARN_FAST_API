{
 "cells": [
  {
   "cell_type": "code",
   "execution_count": 3,
   "id": "064ba7ef",
   "metadata": {},
   "outputs": [],
   "source": [
    "from pydantic import BaseModel,Field,EmailStr,AnyUrl,field_validator\n",
    "from typing import Optional,Annotated,List,Dict\n",
    "\n",
    "\n",
    "class Patients(BaseModel):\n",
    "    Name:str\n",
    "    Age:int\n",
    "    Email:EmailStr\n",
    "    linkedin:AnyUrl\n",
    "    Married:bool\n",
    "    Weight:int\n",
    "    Height:int\n",
    "\n",
    "    @field_validator('Email')\n",
    "    @classmethod\n",
    "    def validate_email(cls,value):\n",
    "        valid_domain=['hdfc.com','icici.com','sbi.com']\n",
    "        domain=value.split('@')[-1]\n",
    "        if domain not in valid_domain:\n",
    "            raise ValueError('Email domain must be hdfc.com,icici.com or sbi.com')\n",
    "        return value\n",
    "    \n",
    "\n",
    "\n",
    "def print_data(Patient:Patients):\n",
    "    print(Patient.Age)\n",
    "    print(Patient.Email)\n",
    "    print(Patient.linkedin)\n",
    "    print(Patient.Married)\n",
    "    print(Patient.Weight)\n",
    "    print(Patient.Height)\n",
    "    \n",
    "\n",
    "data={\n",
    "    'Name':'Sandeep',\n",
    "    'Age':21,\n",
    "    'Email':'sandeep@gmail.com',\n",
    "    'linkedin':'https://www.linkedin.com/in/sandeep/',\n",
    "    'Married':True,\n",
    "    'Weight':50,\n",
    "    'Height':170\n",
    "}\n",
    "    "
   ]
  },
  {
   "cell_type": "code",
   "execution_count": 6,
   "id": "e79688f6",
   "metadata": {},
   "outputs": [
    {
     "ename": "ValidationError",
     "evalue": "1 validation error for Patients\nEmail\n  Value error, Email domain must be hdfc.com,icici.com or sbi.com [type=value_error, input_value='sandeep@gmail.com', input_type=str]\n    For further information visit https://errors.pydantic.dev/2.11/v/value_error",
     "output_type": "error",
     "traceback": [
      "\u001b[1;31m---------------------------------------------------------------------------\u001b[0m",
      "\u001b[1;31mValidationError\u001b[0m                           Traceback (most recent call last)",
      "Cell \u001b[1;32mIn[6], line 1\u001b[0m\n\u001b[1;32m----> 1\u001b[0m obj\u001b[38;5;241m=\u001b[39mPatients(\u001b[38;5;241m*\u001b[39m\u001b[38;5;241m*\u001b[39mdata)\n\u001b[0;32m      2\u001b[0m print_data(obj)\n",
      "File \u001b[1;32md:\\Programming\\FAST_API_LEARNING\\.venv\\lib\\site-packages\\pydantic\\main.py:253\u001b[0m, in \u001b[0;36mBaseModel.__init__\u001b[1;34m(self, **data)\u001b[0m\n\u001b[0;32m    251\u001b[0m \u001b[38;5;66;03m# `__tracebackhide__` tells pytest and some other tools to omit this function from tracebacks\u001b[39;00m\n\u001b[0;32m    252\u001b[0m __tracebackhide__ \u001b[38;5;241m=\u001b[39m \u001b[38;5;28;01mTrue\u001b[39;00m\n\u001b[1;32m--> 253\u001b[0m validated_self \u001b[38;5;241m=\u001b[39m \u001b[38;5;28;43mself\u001b[39;49m\u001b[38;5;241;43m.\u001b[39;49m\u001b[43m__pydantic_validator__\u001b[49m\u001b[38;5;241;43m.\u001b[39;49m\u001b[43mvalidate_python\u001b[49m\u001b[43m(\u001b[49m\u001b[43mdata\u001b[49m\u001b[43m,\u001b[49m\u001b[43m \u001b[49m\u001b[43mself_instance\u001b[49m\u001b[38;5;241;43m=\u001b[39;49m\u001b[38;5;28;43mself\u001b[39;49m\u001b[43m)\u001b[49m\n\u001b[0;32m    254\u001b[0m \u001b[38;5;28;01mif\u001b[39;00m \u001b[38;5;28mself\u001b[39m \u001b[38;5;129;01mis\u001b[39;00m \u001b[38;5;129;01mnot\u001b[39;00m validated_self:\n\u001b[0;32m    255\u001b[0m     warnings\u001b[38;5;241m.\u001b[39mwarn(\n\u001b[0;32m    256\u001b[0m         \u001b[38;5;124m'\u001b[39m\u001b[38;5;124mA custom validator is returning a value other than `self`.\u001b[39m\u001b[38;5;130;01m\\n\u001b[39;00m\u001b[38;5;124m'\u001b[39m\n\u001b[0;32m    257\u001b[0m         \u001b[38;5;124m\"\u001b[39m\u001b[38;5;124mReturning anything other than `self` from a top level model validator isn\u001b[39m\u001b[38;5;124m'\u001b[39m\u001b[38;5;124mt supported when validating via `__init__`.\u001b[39m\u001b[38;5;130;01m\\n\u001b[39;00m\u001b[38;5;124m\"\u001b[39m\n\u001b[0;32m    258\u001b[0m         \u001b[38;5;124m'\u001b[39m\u001b[38;5;124mSee the `model_validator` docs (https://docs.pydantic.dev/latest/concepts/validators/#model-validators) for more details.\u001b[39m\u001b[38;5;124m'\u001b[39m,\n\u001b[0;32m    259\u001b[0m         stacklevel\u001b[38;5;241m=\u001b[39m\u001b[38;5;241m2\u001b[39m,\n\u001b[0;32m    260\u001b[0m     )\n",
      "\u001b[1;31mValidationError\u001b[0m: 1 validation error for Patients\nEmail\n  Value error, Email domain must be hdfc.com,icici.com or sbi.com [type=value_error, input_value='sandeep@gmail.com', input_type=str]\n    For further information visit https://errors.pydantic.dev/2.11/v/value_error"
     ]
    }
   ],
   "source": [
    "obj=Patients(**data)\n",
    "print_data(obj)"
   ]
  },
  {
   "cell_type": "code",
   "execution_count": 8,
   "id": "e4eb3012",
   "metadata": {},
   "outputs": [
    {
     "name": "stdout",
     "output_type": "stream",
     "text": [
      "21\n",
      "sandeep@sbi.com\n",
      "https://www.linkedin.com/in/sandeep/\n",
      "True\n",
      "50\n",
      "170\n"
     ]
    }
   ],
   "source": [
    "\n",
    "data_1={\n",
    "    'Name':'Sandeep',\n",
    "    'Age':21,\n",
    "    'Email':'sandeep@sbi.com',\n",
    "    'linkedin':'https://www.linkedin.com/in/sandeep/',\n",
    "    'Married':True,\n",
    "    'Weight':50,\n",
    "    'Height':170\n",
    "}\n",
    "    \n",
    "\n",
    "obj1=Patients(**data_1)\n",
    "print_data(obj1)"
   ]
  }
 ],
 "metadata": {
  "kernelspec": {
   "display_name": ".venv",
   "language": "python",
   "name": "python3"
  },
  "language_info": {
   "codemirror_mode": {
    "name": "ipython",
    "version": 3
   },
   "file_extension": ".py",
   "mimetype": "text/x-python",
   "name": "python",
   "nbconvert_exporter": "python",
   "pygments_lexer": "ipython3",
   "version": "3.10.11"
  }
 },
 "nbformat": 4,
 "nbformat_minor": 5
}
