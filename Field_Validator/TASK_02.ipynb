{
 "cells": [
  {
   "cell_type": "code",
   "execution_count": 4,
   "id": "87e0f05f",
   "metadata": {},
   "outputs": [],
   "source": [
    "from pydantic import BaseModel,field_validator,EmailStr,AnyUrl\n",
    "from typing import Optional,Annotated,List,Dict\n",
    "\n",
    "\n",
    "\n",
    "class User(BaseModel):\n",
    "    Name:str\n",
    "    Age:int\n",
    "    Email:EmailStr\n",
    "    linkedin:AnyUrl\n",
    "    Married:bool\n",
    "    Weight:int\n",
    "    Height:int\n",
    "    @field_validator('Age')\n",
    "    @classmethod\n",
    "    def validate_age(cls,value):\n",
    "        if value<18:\n",
    "            raise ValueError('Age must be greater than 18')\n",
    "        return value\n",
    "    \n",
    "\n",
    "def print_data(User:User):\n",
    "    print(User.Age)\n",
    "    print(User.Email)\n",
    "    print(User.linkedin)\n",
    "    print(User.Married)\n",
    "    print(User.Weight)\n",
    "    print(User.Height)\n",
    "    \n",
    "\n"
   ]
  },
  {
   "cell_type": "code",
   "execution_count": 5,
   "id": "de450500",
   "metadata": {},
   "outputs": [],
   "source": [
    "\n",
    "data={\n",
    "    'Name':'Sandeep',\n",
    "    'Age':21,\n",
    "    'Email':'sandeep@gmail.com',\n",
    "    'linkedin':'https://www.linkedin.com/in/sandeep/',\n",
    "    'Married':True,\n",
    "    'Weight':50,\n",
    "    'Height':170\n",
    "}\n"
   ]
  },
  {
   "cell_type": "code",
   "execution_count": 6,
   "id": "60909002",
   "metadata": {},
   "outputs": [
    {
     "name": "stdout",
     "output_type": "stream",
     "text": [
      "21\n",
      "sandeep@gmail.com\n",
      "https://www.linkedin.com/in/sandeep/\n",
      "True\n",
      "50\n",
      "170\n"
     ]
    }
   ],
   "source": [
    "obj=User(**data)\n",
    "print_data(obj)"
   ]
  }
 ],
 "metadata": {
  "kernelspec": {
   "display_name": ".venv",
   "language": "python",
   "name": "python3"
  },
  "language_info": {
   "codemirror_mode": {
    "name": "ipython",
    "version": 3
   },
   "file_extension": ".py",
   "mimetype": "text/x-python",
   "name": "python",
   "nbconvert_exporter": "python",
   "pygments_lexer": "ipython3",
   "version": "3.10.11"
  }
 },
 "nbformat": 4,
 "nbformat_minor": 5
}
